{
 "cells": [
  {
   "cell_type": "markdown",
   "id": "0894c344",
   "metadata": {},
   "source": [
    "# Assingnment on Regular Expressions"
   ]
  },
  {
   "cell_type": "code",
   "execution_count": 14,
   "id": "3bd2c5bf",
   "metadata": {},
   "outputs": [
    {
     "name": "stdout",
     "output_type": "stream",
     "text": [
      "Python:Exercises::PHP:excercises:\n"
     ]
    }
   ],
   "source": [
    "# Question 1 :- \n",
    "import re\n",
    "target_string = \"Python Exercises ,PHP excercises'\"\n",
    "result = re.sub(\"[ ',.]\",\":\",target_string)\n",
    "print(result)"
   ]
  },
  {
   "cell_type": "code",
   "execution_count": 15,
   "id": "d79404cc",
   "metadata": {},
   "outputs": [
    {
     "name": "stdout",
     "output_type": "stream",
     "text": [
      "         SUMMARY\n",
      "0    hello world\n",
      "1           test\n",
      "2  four five six\n"
     ]
    }
   ],
   "source": [
    "#Question 2:-\n",
    "import pandas as pd\n",
    "dict_data = {'SUMMARY' : ['hello, world!', 'XXXXX test', '123four, five:; six...']}\n",
    "df = pd.DataFrame(dict_data)\n",
    "df['SUMMARY'] = df['SUMMARY'].str.replace('[,!;:...,123,XXXXX]', '',regex=True)\n",
    "print(df)"
   ]
  },
  {
   "cell_type": "code",
   "execution_count": 16,
   "id": "6ab804ff",
   "metadata": {},
   "outputs": [
    {
     "data": {
      "text/plain": [
       "['Nare', 'ndra', 'Modi', 'Prim', 'Mini', 'ster', 'Indi']"
      ]
     },
     "execution_count": 16,
     "metadata": {},
     "output_type": "execute_result"
    }
   ],
   "source": [
    "#Question 3:-\n",
    "def words(target_string):\n",
    "    result = re.compile(r\"\\w{4}\")\n",
    "    return result.findall(target_string)\n",
    "\n",
    "words(\"Narendra Modi is the Prime Minister of India\")"
   ]
  },
  {
   "cell_type": "code",
   "execution_count": 17,
   "id": "bc62b806",
   "metadata": {},
   "outputs": [
    {
     "data": {
      "text/plain": [
       "['Narend', 'Modi', 'Prime', 'Minist', 'India']"
      ]
     },
     "execution_count": 17,
     "metadata": {},
     "output_type": "execute_result"
    }
   ],
   "source": [
    "#Question 4:-\n",
    "def words(target_string):\n",
    "    result = re.compile(r\"\\w{4,6}\")\n",
    "    return result.findall(target_string)\n",
    "\n",
    "words(\"Narendra Modi is the Prime Minister of India\")"
   ]
  },
  {
   "cell_type": "code",
   "execution_count": 18,
   "id": "a43d8cd8",
   "metadata": {},
   "outputs": [
    {
     "name": "stdout",
     "output_type": "stream",
     "text": [
      "example.com\n",
      "hr@fliprobo.com\n",
      "github.com\n",
      "HelloDataScienceWorld\n",
      "DataScientist\n"
     ]
    }
   ],
   "source": [
    "# Question 5:-\n",
    "def words(strings):\n",
    "   \n",
    "    pattern = re.compile(r\"[\\s*\\([)\\]]\")\n",
    "     \n",
    "    new_string = [pattern.sub('', i) for i in strings]\n",
    "    \n",
    "    return new_string\n",
    "\n",
    "sample_text = [\"example(.com)\", \"hr@fliprobo(.com)\", \"github(.com)\", \"Hello(Data Science World)\", \"Data(Scientist)\"]\n",
    "result = words(sample_text)\n",
    "for item in result:\n",
    "    print(item)"
   ]
  },
  {
   "cell_type": "code",
   "execution_count": 19,
   "id": "d50ccc32",
   "metadata": {},
   "outputs": [
    {
     "name": "stdout",
     "output_type": "stream",
     "text": [
      "['example', 'hr@fliprobo', 'github', 'Hello', 'Data']\n"
     ]
    }
   ],
   "source": [
    "# Question 6:-\n",
    "\n",
    "list = '[\"example (.com)\", \"hr@fliprobo (.com)\", \"github (.com)\", \"Hello (Data Science World)\", \"Data (Scientist)\"]'\n",
    "with open('list.txt', 'w') as f:\n",
    "    f.write(list)\n",
    "\n",
    "\n",
    "with open('list.txt', 'r') as f:\n",
    "    text = f.read()\n",
    "\n",
    "\n",
    "list_modified = re.sub(r'\\s*\\(.*?\\)', '', text)\n",
    "\n",
    "\n",
    "list_modified = list_modified.replace('[', '').replace(']', '').replace('\"', '')\n",
    "\n",
    "\n",
    "list_modified= [i.strip() for i in list_modified.split(',')]\n",
    "\n",
    "\n",
    "print(list_modified)"
   ]
  },
  {
   "cell_type": "code",
   "execution_count": 20,
   "id": "fee4389f",
   "metadata": {},
   "outputs": [
    {
     "name": "stdout",
     "output_type": "stream",
     "text": [
      "['Importance', 'Of', 'Regular', 'Expressions', 'In', 'Python']\n"
     ]
    }
   ],
   "source": [
    "# Question 7 :-\n",
    "string = \"ImportanceOfRegularExpressionsInPython\"\n",
    "result = re.split(r'(?<!^)(?=[A-Z])', string)\n",
    "print(result)"
   ]
  },
  {
   "cell_type": "code",
   "execution_count": 21,
   "id": "eea98236",
   "metadata": {},
   "outputs": [
    {
     "data": {
      "text/plain": [
       "'RegularExpression 1IsAn 2ImportantTopic 3InPython'"
      ]
     },
     "execution_count": 21,
     "metadata": {},
     "output_type": "execute_result"
    }
   ],
   "source": [
    "# Question 8 :-\n",
    "def word3(sample_text): \n",
    "    pattern = r'(?=\\d)'\n",
    "    result = re.sub(pattern, ' ', sample_text)\n",
    "    return result\n",
    "word3(\"RegularExpression1IsAn2ImportantTopic3InPython\")"
   ]
  },
  {
   "cell_type": "code",
   "execution_count": 22,
   "id": "83103c54",
   "metadata": {},
   "outputs": [
    {
     "data": {
      "text/plain": [
       "' Regular Expression 1 Is An 2 Important Topic 3 In Python'"
      ]
     },
     "execution_count": 22,
     "metadata": {},
     "output_type": "execute_result"
    }
   ],
   "source": [
    "# Question 9\n",
    "def word3(sample_text): \n",
    "    pattern = r'(?=[A-Z]|\\d)'\n",
    "    result = re.sub(pattern, ' ', sample_text)\n",
    "    return result\n",
    "word3(\"RegularExpression1IsAn2ImportantTopic3InPython\")"
   ]
  },
  {
   "cell_type": "code",
   "execution_count": 23,
   "id": "a6f420a8",
   "metadata": {},
   "outputs": [
    {
     "name": "stdout",
     "output_type": "stream",
     "text": [
      "         Country                           Region  Happiness Rank  \\\n",
      "0    Switzerland                   Western Europe               1   \n",
      "1        Iceland                   Western Europe               2   \n",
      "2        Denmark                   Western Europe               3   \n",
      "3         Norway                   Western Europe               4   \n",
      "4         Canada                    North America               5   \n",
      "..           ...                              ...             ...   \n",
      "153       Rwanda               Sub-Saharan Africa             154   \n",
      "154        Benin               Sub-Saharan Africa             155   \n",
      "155        Syria  Middle East and Northern Africa             156   \n",
      "156      Burundi               Sub-Saharan Africa             157   \n",
      "157         Togo               Sub-Saharan Africa             158   \n",
      "\n",
      "     Happiness Score  Standard Error  Economy (GDP per Capita)   Family  \\\n",
      "0              7.587         0.03411                   1.39651  1.34951   \n",
      "1              7.561         0.04884                   1.30232  1.40223   \n",
      "2              7.527         0.03328                   1.32548  1.36058   \n",
      "3              7.522         0.03880                   1.45900  1.33095   \n",
      "4              7.427         0.03553                   1.32629  1.32261   \n",
      "..               ...             ...                       ...      ...   \n",
      "153            3.465         0.03464                   0.22208  0.77370   \n",
      "154            3.340         0.03656                   0.28665  0.35386   \n",
      "155            3.006         0.05015                   0.66320  0.47489   \n",
      "156            2.905         0.08658                   0.01530  0.41587   \n",
      "157            2.839         0.06727                   0.20868  0.13995   \n",
      "\n",
      "     Health (Life Expectancy)  Freedom  Trust (Government Corruption)  \\\n",
      "0                     0.94143  0.66557                        0.41978   \n",
      "1                     0.94784  0.62877                        0.14145   \n",
      "2                     0.87464  0.64938                        0.48357   \n",
      "3                     0.88521  0.66973                        0.36503   \n",
      "4                     0.90563  0.63297                        0.32957   \n",
      "..                        ...      ...                            ...   \n",
      "153                   0.42864  0.59201                        0.55191   \n",
      "154                   0.31910  0.48450                        0.08010   \n",
      "155                   0.72193  0.15684                        0.18906   \n",
      "156                   0.22396  0.11850                        0.10062   \n",
      "157                   0.28443  0.36453                        0.10731   \n",
      "\n",
      "     Generosity  Dystopia Residual first_five_letters  \n",
      "0       0.29678            2.51738             Switze  \n",
      "1       0.43630            2.70201             Icelan  \n",
      "2       0.34139            2.49204             Denmar  \n",
      "3       0.34699            2.46531             Norway  \n",
      "4       0.45811            2.45176             Canada  \n",
      "..          ...                ...                ...  \n",
      "153     0.22628            0.67042             Rwanda  \n",
      "154     0.18260            1.63328              Benin  \n",
      "155     0.47179            0.32858              Syria  \n",
      "156     0.19727            1.83302             Burund  \n",
      "157     0.16681            1.56726               Togo  \n",
      "\n",
      "[158 rows x 13 columns]\n"
     ]
    },
    {
     "data": {
      "text/html": [
       "<div>\n",
       "<style scoped>\n",
       "    .dataframe tbody tr th:only-of-type {\n",
       "        vertical-align: middle;\n",
       "    }\n",
       "\n",
       "    .dataframe tbody tr th {\n",
       "        vertical-align: top;\n",
       "    }\n",
       "\n",
       "    .dataframe thead th {\n",
       "        text-align: right;\n",
       "    }\n",
       "</style>\n",
       "<table border=\"1\" class=\"dataframe\">\n",
       "  <thead>\n",
       "    <tr style=\"text-align: right;\">\n",
       "      <th></th>\n",
       "      <th>Country</th>\n",
       "      <th>Region</th>\n",
       "      <th>Happiness Rank</th>\n",
       "      <th>Happiness Score</th>\n",
       "      <th>Standard Error</th>\n",
       "      <th>Economy (GDP per Capita)</th>\n",
       "      <th>Family</th>\n",
       "      <th>Health (Life Expectancy)</th>\n",
       "      <th>Freedom</th>\n",
       "      <th>Trust (Government Corruption)</th>\n",
       "      <th>Generosity</th>\n",
       "      <th>Dystopia Residual</th>\n",
       "      <th>first_five_letters</th>\n",
       "    </tr>\n",
       "  </thead>\n",
       "  <tbody>\n",
       "    <tr>\n",
       "      <th>0</th>\n",
       "      <td>Switzerland</td>\n",
       "      <td>Western Europe</td>\n",
       "      <td>1</td>\n",
       "      <td>7.587</td>\n",
       "      <td>0.03411</td>\n",
       "      <td>1.39651</td>\n",
       "      <td>1.34951</td>\n",
       "      <td>0.94143</td>\n",
       "      <td>0.66557</td>\n",
       "      <td>0.41978</td>\n",
       "      <td>0.29678</td>\n",
       "      <td>2.51738</td>\n",
       "      <td>Switze</td>\n",
       "    </tr>\n",
       "    <tr>\n",
       "      <th>1</th>\n",
       "      <td>Iceland</td>\n",
       "      <td>Western Europe</td>\n",
       "      <td>2</td>\n",
       "      <td>7.561</td>\n",
       "      <td>0.04884</td>\n",
       "      <td>1.30232</td>\n",
       "      <td>1.40223</td>\n",
       "      <td>0.94784</td>\n",
       "      <td>0.62877</td>\n",
       "      <td>0.14145</td>\n",
       "      <td>0.43630</td>\n",
       "      <td>2.70201</td>\n",
       "      <td>Icelan</td>\n",
       "    </tr>\n",
       "    <tr>\n",
       "      <th>2</th>\n",
       "      <td>Denmark</td>\n",
       "      <td>Western Europe</td>\n",
       "      <td>3</td>\n",
       "      <td>7.527</td>\n",
       "      <td>0.03328</td>\n",
       "      <td>1.32548</td>\n",
       "      <td>1.36058</td>\n",
       "      <td>0.87464</td>\n",
       "      <td>0.64938</td>\n",
       "      <td>0.48357</td>\n",
       "      <td>0.34139</td>\n",
       "      <td>2.49204</td>\n",
       "      <td>Denmar</td>\n",
       "    </tr>\n",
       "    <tr>\n",
       "      <th>3</th>\n",
       "      <td>Norway</td>\n",
       "      <td>Western Europe</td>\n",
       "      <td>4</td>\n",
       "      <td>7.522</td>\n",
       "      <td>0.03880</td>\n",
       "      <td>1.45900</td>\n",
       "      <td>1.33095</td>\n",
       "      <td>0.88521</td>\n",
       "      <td>0.66973</td>\n",
       "      <td>0.36503</td>\n",
       "      <td>0.34699</td>\n",
       "      <td>2.46531</td>\n",
       "      <td>Norway</td>\n",
       "    </tr>\n",
       "    <tr>\n",
       "      <th>4</th>\n",
       "      <td>Canada</td>\n",
       "      <td>North America</td>\n",
       "      <td>5</td>\n",
       "      <td>7.427</td>\n",
       "      <td>0.03553</td>\n",
       "      <td>1.32629</td>\n",
       "      <td>1.32261</td>\n",
       "      <td>0.90563</td>\n",
       "      <td>0.63297</td>\n",
       "      <td>0.32957</td>\n",
       "      <td>0.45811</td>\n",
       "      <td>2.45176</td>\n",
       "      <td>Canada</td>\n",
       "    </tr>\n",
       "  </tbody>\n",
       "</table>\n",
       "</div>"
      ],
      "text/plain": [
       "       Country          Region  Happiness Rank  Happiness Score  \\\n",
       "0  Switzerland  Western Europe               1            7.587   \n",
       "1      Iceland  Western Europe               2            7.561   \n",
       "2      Denmark  Western Europe               3            7.527   \n",
       "3       Norway  Western Europe               4            7.522   \n",
       "4       Canada   North America               5            7.427   \n",
       "\n",
       "   Standard Error  Economy (GDP per Capita)   Family  \\\n",
       "0         0.03411                   1.39651  1.34951   \n",
       "1         0.04884                   1.30232  1.40223   \n",
       "2         0.03328                   1.32548  1.36058   \n",
       "3         0.03880                   1.45900  1.33095   \n",
       "4         0.03553                   1.32629  1.32261   \n",
       "\n",
       "   Health (Life Expectancy)  Freedom  Trust (Government Corruption)  \\\n",
       "0                   0.94143  0.66557                        0.41978   \n",
       "1                   0.94784  0.62877                        0.14145   \n",
       "2                   0.87464  0.64938                        0.48357   \n",
       "3                   0.88521  0.66973                        0.36503   \n",
       "4                   0.90563  0.63297                        0.32957   \n",
       "\n",
       "   Generosity  Dystopia Residual first_five_letters  \n",
       "0     0.29678            2.51738             Switze  \n",
       "1     0.43630            2.70201             Icelan  \n",
       "2     0.34139            2.49204             Denmar  \n",
       "3     0.34699            2.46531             Norway  \n",
       "4     0.45811            2.45176             Canada  "
      ]
     },
     "execution_count": 23,
     "metadata": {},
     "output_type": "execute_result"
    }
   ],
   "source": [
    "# Question 10\n",
    "import pandas as pd\n",
    "\n",
    "url = \"https://raw.githubusercontent.com/dsrscientist/DSData/master/happiness_score_dataset.csv\"\n",
    "df = pd.read_csv(url)\n",
    "df.head()\n",
    "df[\"first_five_letters\"]=df['Country'].str[:6]\n",
    "print(df)\n",
    "df.head()"
   ]
  },
  {
   "cell_type": "code",
   "execution_count": 24,
   "id": "dd52bf44",
   "metadata": {},
   "outputs": [
    {
     "name": "stdout",
     "output_type": "stream",
     "text": [
      "True\n"
     ]
    }
   ],
   "source": [
    "#Question 11:-\n",
    "\n",
    "\n",
    "def match_string(text):\n",
    "    pattern = r'^[a-zA-Z0-9_]+$'\n",
    "    \n",
    "    if re.fullmatch(pattern, text):\n",
    "        return True\n",
    "    else:\n",
    "        return False\n",
    "    \n",
    "print(match_string(\"RegularExpression1IsAn2ImportantTopic3InPython_\"))   "
   ]
  },
  {
   "cell_type": "code",
   "execution_count": 25,
   "id": "ed069006",
   "metadata": {},
   "outputs": [
    {
     "name": "stdout",
     "output_type": "stream",
     "text": [
      "False\n",
      "True\n",
      "False\n"
     ]
    }
   ],
   "source": [
    "# Question 12 :-\n",
    "\n",
    "def match_num(string):\n",
    "    \n",
    "    if re.match(r\"^8\",string):\n",
    "        return True\n",
    "    else:\n",
    "        return False\n",
    "print(match_num('5_2345861'))\n",
    "print(match_num('8_2345861'))\n",
    "print(match_num(\"RegularExpression1IsAn2ImportantTopic3InPython_\"))   "
   ]
  },
  {
   "cell_type": "code",
   "execution_count": 26,
   "id": "0d19bd9c",
   "metadata": {},
   "outputs": [
    {
     "name": "stdout",
     "output_type": "stream",
     "text": [
      "116.8.92.196\n"
     ]
    }
   ],
   "source": [
    "# Question 13 :-\n",
    "def ipaddress(ip):\n",
    "    str = re.sub('\\.[0]*', '.', ip)\n",
    "    print(str)\n",
    "\n",
    "ipaddress(\"116.08.092.0196\")\n",
    "\n"
   ]
  },
  {
   "cell_type": "code",
   "execution_count": 27,
   "id": "7be85754",
   "metadata": {},
   "outputs": [
    {
     "name": "stdout",
     "output_type": "stream",
     "text": [
      "August 15th 1947\n"
     ]
    }
   ],
   "source": [
    "#Question 14:-\n",
    "import re\n",
    "\n",
    "text = \"On August 15th 1947 that India was declared independent from British colonialism, and the reins of control were handed over to the leaders of the Country.\"\n",
    "with open('text.txt', 'w') as f:\n",
    "    f.write(text)\n",
    "\n",
    "\n",
    "with open('text.txt', 'r') as f:\n",
    "    text_1 = f.read()\n",
    "\n",
    "pattern = r\"\\b([A-Z][a-z]+ \\d{1,2}(?:st|nd|rd|th)? \\d{4})\\b\"\n",
    "\n",
    "matches = re.findall(pattern, text)\n",
    "a=\"\"\n",
    "for i in matches:\n",
    "    a=a+i\n",
    "    print(a)"
   ]
  },
  {
   "cell_type": "code",
   "execution_count": 50,
   "id": "a3d9d74d",
   "metadata": {},
   "outputs": [
    {
     "name": "stdout",
     "output_type": "stream",
     "text": [
      "'fox' found in the text.\n",
      "'dog' found in the text.\n",
      "'horse' not found in the text.\n"
     ]
    }
   ],
   "source": [
    "#Question 15:-\n",
    "\n",
    "def strings_(text, literals):\n",
    "    for words in literals:\n",
    "        if words in text:\n",
    "            print(f\"'{words}' found in the text.\")\n",
    "        else:\n",
    "            print(f\"'{words}' not found in the text.\")\n",
    "\n",
    "\n",
    "text = 'The quick brown fox jumps over the lazy dog.'\n",
    "literals = ['fox', 'dog', 'horse']\n",
    "\n",
    "strings_(text, literals)"
   ]
  },
  {
   "cell_type": "code",
   "execution_count": 29,
   "id": "0fb14728",
   "metadata": {},
   "outputs": [
    {
     "name": "stdout",
     "output_type": "stream",
     "text": [
      "Found \"fox\" from 16 to 19\n"
     ]
    }
   ],
   "source": [
    "#Question 16:-\n",
    "\n",
    "pattern = 'fox'\n",
    "text = 'The quick brown fox jumps over the lazy dog.'\n",
    "match = re.search(pattern, text)\n",
    "s = match.start()\n",
    "e = match.end()\n",
    "print(f'Found \"{pattern}\" from {s} to {e}')"
   ]
  },
  {
   "cell_type": "code",
   "execution_count": 30,
   "id": "351fff4f",
   "metadata": {},
   "outputs": [
    {
     "name": "stdout",
     "output_type": "stream",
     "text": [
      "True\n"
     ]
    }
   ],
   "source": [
    "#Question 17 :-\n",
    "\n",
    "text = 'Python exercises, PHP exercises, C# exercises'\n",
    "pattern = 'exercises'\n",
    "\n",
    "def match_num2(text):\n",
    "    if re.finditer(pattern, text):\n",
    "        return True\n",
    "    else:\n",
    "        return False\n",
    "print(match_num2('Python exercises, PHP exercises, C# exercises'))   "
   ]
  },
  {
   "cell_type": "code",
   "execution_count": 31,
   "id": "8c35d2d9",
   "metadata": {},
   "outputs": [
    {
     "name": "stdout",
     "output_type": "stream",
     "text": [
      "Found \"exercises\" in \"Python exercises, PHP exercises, C# exercises\" from 7 to 16\n",
      "Found \"exercises\" in \"Python exercises, PHP exercises, C# exercises\" from 22 to 31\n",
      "Found \"exercises\" in \"Python exercises, PHP exercises, C# exercises\" from 36 to 45\n"
     ]
    }
   ],
   "source": [
    "#Question 18 :-\n",
    "text = 'Python exercises, PHP exercises, C# exercises'\n",
    "pattern = 'exercises'\n",
    "\n",
    "matches = re.finditer(pattern, text)\n",
    "\n",
    "for match in matches:\n",
    "    print(f'Found \"{pattern}\" in \"{text}\" from {match.start()} to {match.end()}')\n"
   ]
  },
  {
   "cell_type": "code",
   "execution_count": 32,
   "id": "35e92bd8",
   "metadata": {},
   "outputs": [
    {
     "name": "stdout",
     "output_type": "stream",
     "text": [
      "Enter date in the format yyyy-mm-dd 2024-12-25\n",
      "25-12-2024\n"
     ]
    }
   ],
   "source": [
    "#Question 19:-\n",
    "from datetime import datetime\n",
    "\n",
    "date_input=input(\"Enter date in the format yyyy-mm-dd \")\n",
    "\n",
    "date_object = datetime.strptime(date_input, '%Y-%m-%d')\n",
    "\n",
    "date_output = date_object.strftime('%d-%m-%Y')\n",
    "print(date_output)"
   ]
  },
  {
   "cell_type": "code",
   "execution_count": 33,
   "id": "8b81b565",
   "metadata": {},
   "outputs": [
    {
     "name": "stdout",
     "output_type": "stream",
     "text": [
      "['01.12', '145.8', '3.01', '27.25', '0.25']\n"
     ]
    }
   ],
   "source": [
    "# Question 20:-\n",
    "def decimal_num(text):\n",
    "    pattern = re.compile(r'\\b\\d+(?:\\.\\d{1,2})\\b')\n",
    "    return pattern.findall(text)\n",
    "\n",
    "text = \"01.12 0132.123 2.31875 145.8 3.01 27.25 0.25\"\n",
    "print(decimal_num(text))  "
   ]
  },
  {
   "cell_type": "code",
   "execution_count": 34,
   "id": "ef17d700",
   "metadata": {},
   "outputs": [
    {
     "name": "stdout",
     "output_type": "stream",
     "text": [
      "Enter a string to checkThere are 12 bananas,10 mangoes and 12 pineapples\n",
      "Number: 12, Position: 10\n",
      "Number: 10, Position: 21\n",
      "Number: 12, Position: 36\n"
     ]
    }
   ],
   "source": [
    "# Question 21:-\n",
    "\n",
    "def string_(input_string):\n",
    "    pattern = re.compile(r'\\d+')\n",
    "    matches = pattern.finditer(input_string)\n",
    "    for i in matches:\n",
    "        number= i.group()\n",
    "        position=i.start()\n",
    "        print(f\"Number: {number}, Position: {position}\")\n",
    "        \n",
    "input_string = input(\"Enter a string to check\")\n",
    "string_(input_string)"
   ]
  },
  {
   "cell_type": "code",
   "execution_count": 35,
   "id": "e76e1e68",
   "metadata": {},
   "outputs": [
    {
     "name": "stdout",
     "output_type": "stream",
     "text": [
      "950\n"
     ]
    }
   ],
   "source": [
    "# Question 22:-\n",
    "input_ = 'My marks in each semester are: 947, 896, 926, 524, 734, 950, 642'\n",
    "\n",
    "marks = re.findall(r'\\d+', input_)\n",
    "marks= [int(value) for value in marks]\n",
    "\n",
    "max_marks = max(marks)\n",
    "\n",
    "print(max_marks)"
   ]
  },
  {
   "cell_type": "code",
   "execution_count": 36,
   "id": "8930d918",
   "metadata": {},
   "outputs": [
    {
     "name": "stdout",
     "output_type": "stream",
     "text": [
      "Regular Expression Is An Important Topic In Python\n"
     ]
    }
   ],
   "source": [
    "# Question 23 :-\n",
    "def insert_spaces(text):\n",
    "    return re.sub(r\"(\\w)([A-Z])\", r\"\\1 \\2\", text)\n",
    "\n",
    "text = \"RegularExpressionIsAnImportantTopicInPython\"\n",
    "print(insert_spaces(text)) "
   ]
  },
  {
   "cell_type": "code",
   "execution_count": 37,
   "id": "9fa9f80e",
   "metadata": {
    "scrolled": true
   },
   "outputs": [
    {
     "name": "stdout",
     "output_type": "stream",
     "text": [
      "['Regular', 'Expression', 'Is', 'An', 'Important', 'Topic', 'In', 'Python']\n"
     ]
    }
   ],
   "source": [
    "# Question 24 :-\n",
    "def upper_lower(text):\n",
    "    return re.findall(r\"[A-Z][a-z]+\", text)\n",
    "\n",
    "text = \"RegularExpressionIsAnImportantTopicInPython\"\n",
    "print(upper_lower(text)) "
   ]
  },
  {
   "cell_type": "code",
   "execution_count": 38,
   "id": "dceead60",
   "metadata": {},
   "outputs": [
    {
     "name": "stdout",
     "output_type": "stream",
     "text": [
      "Hello hello world\n"
     ]
    }
   ],
   "source": [
    "# Question 25 :-\n",
    "sentence = \"Hello hello world world\"\n",
    "new_sentences =re.sub(r\"\\b(\\w+)\\s+\\1\\b\", r\"\\1\", sentence,)\n",
    "print(new_sentences)\n"
   ]
  },
  {
   "cell_type": "code",
   "execution_count": 39,
   "id": "72dd5d1a",
   "metadata": {
    "scrolled": true
   },
   "outputs": [
    {
     "name": "stdout",
     "output_type": "stream",
     "text": [
      "The string is :\n",
      "Python123\n",
      "The string ends with an alphanumeric character.\n"
     ]
    }
   ],
   "source": [
    "# Question 26:-\n",
    "def accept_string(my_string):\n",
    "    pattern = '[a-zA-Z0-9]*$'\n",
    "    if re.search(pattern, my_string):\n",
    "        print(\"The string ends with an alphanumeric character.\")\n",
    "    else:\n",
    "        print(\"The string does not end with an alphanumeric character.\")\n",
    "my_string_1 = \"Python123\"\n",
    "print(\"The string is :\")\n",
    "print(my_string_1)\n",
    "accept_string(my_string_1)    "
   ]
  },
  {
   "cell_type": "code",
   "execution_count": 40,
   "id": "039f411d",
   "metadata": {},
   "outputs": [
    {
     "name": "stdout",
     "output_type": "stream",
     "text": [
      "['#Doltiwal', '#xyzabc', '#Demonetization']\n"
     ]
    }
   ],
   "source": [
    "# Question 27:-\n",
    "import re\n",
    "def extract_hashtags(text):\n",
    "    List = []\n",
    "    regex_pattern = r'#\\w+'\n",
    "    for match in re.finditer(regex_pattern, text):\n",
    "        List.append(match.group())\n",
    "    return List\n",
    "text = \"\"\"RT @kapil_kausik: #Doltiwal I mean #xyzabc is \"hurt\" by #Demonetization as the same has rendered USELESS <ed><U+00A0><U+00BD><ed><U+00B1><U+0089> \"acquired funds\" No wo\"\"\"\n",
    "print(extract_hashtags(text))"
   ]
  },
  {
   "cell_type": "code",
   "execution_count": 41,
   "id": "1ce7889f",
   "metadata": {},
   "outputs": [
    {
     "name": "stdout",
     "output_type": "stream",
     "text": [
      "@Jags123456 Bharat band on 28??<ed><ed>Those who are protesting #demonetization  are all different party leaders\n"
     ]
    }
   ],
   "source": [
    "# Question 28:-\n",
    "input_ = \"@Jags123456 Bharat band on 28??<ed><U+00A0><U+00BD><ed><U+00B8><U+0082>Those who are protesting #demonetization  are all different party leaders\"\n",
    "\n",
    "pattern = r\"<U\\+\\w{4}>\"\n",
    "output_ = re.sub(pattern, \"\", input_)\n",
    "\n",
    "print(output_)\n"
   ]
  },
  {
   "cell_type": "code",
   "execution_count": 42,
   "id": "443e44df",
   "metadata": {},
   "outputs": [
    {
     "name": "stdout",
     "output_type": "stream",
     "text": [
      "['12-09-1992', '15-12-1999']\n"
     ]
    }
   ],
   "source": [
    "# Question 29:-\n",
    "text_ = \"Ron was born on 12-09-1992 and he was admitted to school 15-12-1999.\"\n",
    "with open('text_.txt', 'w') as f:\n",
    "    f.write(text_)\n",
    "with open('text_.txt', 'r') as f:\n",
    "    text_2 = f.read()\n",
    "pattern = r'(\\d{2}-\\d{2}-\\d{4})'\n",
    "dates = re.findall(pattern, text_2)\n",
    "print(dates)\n"
   ]
  },
  {
   "cell_type": "code",
   "execution_count": 43,
   "id": "77628968",
   "metadata": {},
   "outputs": [
    {
     "name": "stdout",
     "output_type": "stream",
     "text": [
      " following example creates  ArrayList  a capacity   elements. 4 elements   added   ArrayList   ArrayList  trimmed accordingly.\n"
     ]
    }
   ],
   "source": [
    "# Question 30:-\n",
    "def words(text_remove):\n",
    "    pattern = re.compile(r'\\b\\w{2,4}\\b')\n",
    "    modified_string = re.sub(pattern, '', text_remove)\n",
    "    return modified_string\n",
    "text_remove= \"The following example creates an ArrayList with a capacity of 50 elements. 4 elements are then added to the ArrayList and the ArrayList is trimmed accordingly.\"\n",
    "print(words(text_remove))"
   ]
  },
  {
   "cell_type": "code",
   "execution_count": null,
   "id": "b91f6580",
   "metadata": {},
   "outputs": [],
   "source": []
  }
 ],
 "metadata": {
  "kernelspec": {
   "display_name": "Python 3 (ipykernel)",
   "language": "python",
   "name": "python3"
  },
  "language_info": {
   "codemirror_mode": {
    "name": "ipython",
    "version": 3
   },
   "file_extension": ".py",
   "mimetype": "text/x-python",
   "name": "python",
   "nbconvert_exporter": "python",
   "pygments_lexer": "ipython3",
   "version": "3.11.5"
  }
 },
 "nbformat": 4,
 "nbformat_minor": 5
}
